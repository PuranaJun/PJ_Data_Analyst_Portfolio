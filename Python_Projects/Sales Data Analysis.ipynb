{
 "cells": [
  {
   "cell_type": "markdown",
   "id": "3ad04471",
   "metadata": {},
   "source": [
    "# Sales Data Analysis\n",
    "\n",
    "### Sales analytics is the practice of generating insights from sales data, trends, and metrics to set targets and forecast future sales performance. Sales analysis is mining your data to evaluate the performance of your sales team against its goals.\n",
    "\n",
    "### Content\n",
    "- Order ID - An Order ID is the number system that Amazon uses exclusively to keep track of orders. Each order receives its own Order ID that will not be duplicated. This number can be useful to the seller when attempting to find out certain details about an order such as shipment date or status.\n",
    "- Product - The product that have been sold.\n",
    "- Quantity Ordered - Ordered Quantity is the total item quantity ordered in the initial order (without any changes).\n",
    "- Price Each - The price of each products.\n",
    "- Order Date - This is the date the customer is requesting the order be shipped.\n",
    "- Purchase Address - The purchase order is prepared by the buyer, often through a purchasing department. The purchase order, or PO, usually includes a PO number, which is useful in matching shipments with purchases; a shipping date; billing address; shipping address; and the request items, quantities and price.\n",
    "\n",
    "#### The main objective here is to extract key performance indicators (KPIs) that will enable you to make data-driven decisions and improve your company’s business. \n",
    "\n",
    "Below are questions I try to answer:\n",
    "- What are the key demographics of the customers?\n",
    "- Which market (city) generated the most sales on average?\n",
    "- When were the best- and worst-selling periods?\n",
    "- What time should we display adverstisement to maximize likelihood of customer's buying product?\n",
    "- What products are most often sold together?\n",
    "- Which products should the company order more or less of?\n",
    "- What product sold the most? Why do you think it sold the most?\n",
    "\n",
    "Below are some probability questions I aim to answer:\n",
    "- How much probability for next people will ordered iPhone?\n",
    "- How much probability for next people will ordered Google Phone?\n",
    "\n",
    "## Acknowledgement \n",
    "\n",
    "### Link to the dataset: https://www.kaggle.com/datasets/knightbearr/sales-product-data\n",
    "\n",
    "## Inspiration\n",
    "\n",
    "### Link: https://www.dataquest.io/blog/10-great-portfolio-projects-for-business-analysis/"
   ]
  },
  {
   "cell_type": "code",
   "execution_count": 5,
   "id": "787005b1",
   "metadata": {},
   "outputs": [
    {
     "data": {
      "text/html": [
       "<div>\n",
       "<style scoped>\n",
       "    .dataframe tbody tr th:only-of-type {\n",
       "        vertical-align: middle;\n",
       "    }\n",
       "\n",
       "    .dataframe tbody tr th {\n",
       "        vertical-align: top;\n",
       "    }\n",
       "\n",
       "    .dataframe thead th {\n",
       "        text-align: right;\n",
       "    }\n",
       "</style>\n",
       "<table border=\"1\" class=\"dataframe\">\n",
       "  <thead>\n",
       "    <tr style=\"text-align: right;\">\n",
       "      <th></th>\n",
       "      <th>Order ID</th>\n",
       "      <th>Product</th>\n",
       "      <th>Quantity Ordered</th>\n",
       "      <th>Price Each</th>\n",
       "      <th>Order Date</th>\n",
       "      <th>Purchase Address</th>\n",
       "    </tr>\n",
       "  </thead>\n",
       "  <tbody>\n",
       "    <tr>\n",
       "      <th>0</th>\n",
       "      <td>141234</td>\n",
       "      <td>iPhone</td>\n",
       "      <td>1</td>\n",
       "      <td>700</td>\n",
       "      <td>01/22/19 21:25</td>\n",
       "      <td>944 Walnut St, Boston, MA 02215</td>\n",
       "    </tr>\n",
       "    <tr>\n",
       "      <th>1</th>\n",
       "      <td>141235</td>\n",
       "      <td>Lightning Charging Cable</td>\n",
       "      <td>1</td>\n",
       "      <td>14.95</td>\n",
       "      <td>01/28/19 14:15</td>\n",
       "      <td>185 Maple St, Portland, OR 97035</td>\n",
       "    </tr>\n",
       "    <tr>\n",
       "      <th>2</th>\n",
       "      <td>141236</td>\n",
       "      <td>Wired Headphones</td>\n",
       "      <td>2</td>\n",
       "      <td>11.99</td>\n",
       "      <td>01/17/19 13:33</td>\n",
       "      <td>538 Adams St, San Francisco, CA 94016</td>\n",
       "    </tr>\n",
       "    <tr>\n",
       "      <th>3</th>\n",
       "      <td>141237</td>\n",
       "      <td>27in FHD Monitor</td>\n",
       "      <td>1</td>\n",
       "      <td>149.99</td>\n",
       "      <td>01/05/19 20:33</td>\n",
       "      <td>738 10th St, Los Angeles, CA 90001</td>\n",
       "    </tr>\n",
       "    <tr>\n",
       "      <th>4</th>\n",
       "      <td>141238</td>\n",
       "      <td>Wired Headphones</td>\n",
       "      <td>1</td>\n",
       "      <td>11.99</td>\n",
       "      <td>01/25/19 11:59</td>\n",
       "      <td>387 10th St, Austin, TX 73301</td>\n",
       "    </tr>\n",
       "  </tbody>\n",
       "</table>\n",
       "</div>"
      ],
      "text/plain": [
       "  Order ID                   Product Quantity Ordered Price Each  \\\n",
       "0   141234                    iPhone                1        700   \n",
       "1   141235  Lightning Charging Cable                1      14.95   \n",
       "2   141236          Wired Headphones                2      11.99   \n",
       "3   141237          27in FHD Monitor                1     149.99   \n",
       "4   141238          Wired Headphones                1      11.99   \n",
       "\n",
       "       Order Date                       Purchase Address  \n",
       "0  01/22/19 21:25        944 Walnut St, Boston, MA 02215  \n",
       "1  01/28/19 14:15       185 Maple St, Portland, OR 97035  \n",
       "2  01/17/19 13:33  538 Adams St, San Francisco, CA 94016  \n",
       "3  01/05/19 20:33     738 10th St, Los Angeles, CA 90001  \n",
       "4  01/25/19 11:59          387 10th St, Austin, TX 73301  "
      ]
     },
     "execution_count": 5,
     "metadata": {},
     "output_type": "execute_result"
    }
   ],
   "source": [
    "import pandas as pd\n",
    "import os\n",
    "from itertools import combinations\n",
    "from collections import Counter\n",
    "import numpy as np\n",
    "from scipy import stats\n",
    "import seaborn as sns\n",
    "\n",
    "# Load all the datasets\n",
    "files = ['C:/Users/PJ/Downloads/Sales_Product_Data/Sales_January_2019.csv', 'C:/Users/PJ/Downloads/Sales_Product_Data/Sales_February_2019.csv', 'C:/Users/PJ/Downloads/Sales_Product_Data/Sales_March_2019.csv', 'C:/Users/PJ/Downloads/Sales_Product_Data/Sales_April_2019.csv', 'C:/Users/PJ/Downloads/Sales_Product_Data/Sales_May_2019.csv', 'C:/Users/PJ/Downloads/Sales_Product_Data/Sales_June_2019.csv', 'C:/Users/PJ/Downloads/Sales_Product_Data/Sales_July_2019.csv', 'C:/Users/PJ/Downloads/Sales_Product_Data/Sales_August_2019.csv', 'C:/Users/PJ/Downloads/Sales_Product_Data/Sales_September_2019.csv', 'C:/Users/PJ/Downloads/Sales_Product_Data/Sales_October_2019.csv', 'C:/Users/PJ/Downloads/Sales_Product_Data/Sales_November_2019.csv', 'C:/Users/PJ/Downloads/Sales_Product_Data/Sales_December_2019.csv']\n",
    "df = pd.concat((pd.read_csv(file) for file in files), ignore_index=True)\n",
    "\n",
    "# Display the first few rows of the dataframe\n",
    "df.head()"
   ]
  },
  {
   "cell_type": "code",
   "execution_count": 6,
   "id": "eb2bcac3",
   "metadata": {},
   "outputs": [
    {
     "data": {
      "text/plain": [
       "Order ID            545\n",
       "Product             545\n",
       "Quantity Ordered    545\n",
       "Price Each          545\n",
       "Order Date          545\n",
       "Purchase Address    545\n",
       "dtype: int64"
      ]
     },
     "execution_count": 6,
     "metadata": {},
     "output_type": "execute_result"
    }
   ],
   "source": [
    "# Check for missing values\n",
    "df.isnull().sum()"
   ]
  },
  {
   "cell_type": "markdown",
   "id": "185184cf",
   "metadata": {},
   "source": [
    "#### Since there are 545 missing values in each column. These missing values are needed to be handled before proceeding with the analysis."
   ]
  },
  {
   "cell_type": "code",
   "execution_count": 7,
   "id": "a8e372b1",
   "metadata": {},
   "outputs": [
    {
     "data": {
      "text/plain": [
       "Order ID            0\n",
       "Product             0\n",
       "Quantity Ordered    0\n",
       "Price Each          0\n",
       "Order Date          0\n",
       "Purchase Address    0\n",
       "dtype: int64"
      ]
     },
     "execution_count": 7,
     "metadata": {},
     "output_type": "execute_result"
    }
   ],
   "source": [
    "# Remove missing values\n",
    "df = df.dropna(how='any')\n",
    "\n",
    "# Check again for missing values\n",
    "df.isnull().sum()"
   ]
  },
  {
   "cell_type": "code",
   "execution_count": 8,
   "id": "7f6156b5",
   "metadata": {},
   "outputs": [
    {
     "data": {
      "text/plain": [
       "Order ID            object\n",
       "Product             object\n",
       "Quantity Ordered    object\n",
       "Price Each          object\n",
       "Order Date          object\n",
       "Purchase Address    object\n",
       "dtype: object"
      ]
     },
     "execution_count": 8,
     "metadata": {},
     "output_type": "execute_result"
    }
   ],
   "source": [
    "# Check the data types of the columns to be sure\n",
    "df.dtypes"
   ]
  },
  {
   "cell_type": "markdown",
   "id": "a376e9f6",
   "metadata": {},
   "source": [
    "#### There are problems here. The 'Order ID', 'Product', 'Quantity Ordered', 'Price Each', 'Order Date', and 'Purchase Address' columns are all of the object data type. We need to convert 'Quantity Ordered' and 'Price Each' to numeric types and 'Order Date' to a datetime type so they are appropriate for the analysis"
   ]
  },
  {
   "cell_type": "code",
   "execution_count": 9,
   "id": "2c2a06e6",
   "metadata": {},
   "outputs": [
    {
     "data": {
      "text/plain": [
       "Order ID                    object\n",
       "Product                     object\n",
       "Quantity Ordered           float64\n",
       "Price Each                 float64\n",
       "Order Date          datetime64[ns]\n",
       "Purchase Address            object\n",
       "dtype: object"
      ]
     },
     "execution_count": 9,
     "metadata": {},
     "output_type": "execute_result"
    }
   ],
   "source": [
    "# Convert 'Quantity Ordered' and 'Price Each' to numeric types\n",
    "df['Quantity Ordered'] = pd.to_numeric(df['Quantity Ordered'], errors='coerce')\n",
    "df['Price Each'] = pd.to_numeric(df['Price Each'], errors='coerce')\n",
    "\n",
    "# Convert 'Order Date' to datetime type\n",
    "df['Order Date'] = pd.to_datetime(df['Order Date'], errors='coerce')\n",
    "\n",
    "# Check the data types of the columns again\n",
    "df.dtypes"
   ]
  },
  {
   "cell_type": "markdown",
   "id": "26796e2f",
   "metadata": {},
   "source": [
    "### Now that the data is now ready to be analyzed, I will go answer each question respectively\n",
    "\n",
    "#### (1) What are the key demographics of the customers?\n",
    "\n",
    "Although the dataset does not contain age or gender information, we can extract the city and state from the 'Purchase Address' column to get an idea of the geographical distribution of customers."
   ]
  },
  {
   "cell_type": "code",
   "execution_count": 10,
   "id": "dcf3af9f",
   "metadata": {},
   "outputs": [
    {
     "data": {
      "text/html": [
       "<div>\n",
       "<style scoped>\n",
       "    .dataframe tbody tr th:only-of-type {\n",
       "        vertical-align: middle;\n",
       "    }\n",
       "\n",
       "    .dataframe tbody tr th {\n",
       "        vertical-align: top;\n",
       "    }\n",
       "\n",
       "    .dataframe thead th {\n",
       "        text-align: right;\n",
       "    }\n",
       "</style>\n",
       "<table border=\"1\" class=\"dataframe\">\n",
       "  <thead>\n",
       "    <tr style=\"text-align: right;\">\n",
       "      <th></th>\n",
       "      <th>Order ID</th>\n",
       "      <th>Product</th>\n",
       "      <th>Quantity Ordered</th>\n",
       "      <th>Price Each</th>\n",
       "      <th>Order Date</th>\n",
       "      <th>Purchase Address</th>\n",
       "      <th>City</th>\n",
       "      <th>State</th>\n",
       "    </tr>\n",
       "  </thead>\n",
       "  <tbody>\n",
       "    <tr>\n",
       "      <th>0</th>\n",
       "      <td>141234</td>\n",
       "      <td>iPhone</td>\n",
       "      <td>1.0</td>\n",
       "      <td>700.00</td>\n",
       "      <td>2019-01-22 21:25:00</td>\n",
       "      <td>944 Walnut St, Boston, MA 02215</td>\n",
       "      <td>Boston</td>\n",
       "      <td>MA</td>\n",
       "    </tr>\n",
       "    <tr>\n",
       "      <th>1</th>\n",
       "      <td>141235</td>\n",
       "      <td>Lightning Charging Cable</td>\n",
       "      <td>1.0</td>\n",
       "      <td>14.95</td>\n",
       "      <td>2019-01-28 14:15:00</td>\n",
       "      <td>185 Maple St, Portland, OR 97035</td>\n",
       "      <td>Portland</td>\n",
       "      <td>OR</td>\n",
       "    </tr>\n",
       "    <tr>\n",
       "      <th>2</th>\n",
       "      <td>141236</td>\n",
       "      <td>Wired Headphones</td>\n",
       "      <td>2.0</td>\n",
       "      <td>11.99</td>\n",
       "      <td>2019-01-17 13:33:00</td>\n",
       "      <td>538 Adams St, San Francisco, CA 94016</td>\n",
       "      <td>San Francisco</td>\n",
       "      <td>CA</td>\n",
       "    </tr>\n",
       "    <tr>\n",
       "      <th>3</th>\n",
       "      <td>141237</td>\n",
       "      <td>27in FHD Monitor</td>\n",
       "      <td>1.0</td>\n",
       "      <td>149.99</td>\n",
       "      <td>2019-01-05 20:33:00</td>\n",
       "      <td>738 10th St, Los Angeles, CA 90001</td>\n",
       "      <td>Los Angeles</td>\n",
       "      <td>CA</td>\n",
       "    </tr>\n",
       "    <tr>\n",
       "      <th>4</th>\n",
       "      <td>141238</td>\n",
       "      <td>Wired Headphones</td>\n",
       "      <td>1.0</td>\n",
       "      <td>11.99</td>\n",
       "      <td>2019-01-25 11:59:00</td>\n",
       "      <td>387 10th St, Austin, TX 73301</td>\n",
       "      <td>Austin</td>\n",
       "      <td>TX</td>\n",
       "    </tr>\n",
       "  </tbody>\n",
       "</table>\n",
       "</div>"
      ],
      "text/plain": [
       "  Order ID                   Product  Quantity Ordered  Price Each  \\\n",
       "0   141234                    iPhone               1.0      700.00   \n",
       "1   141235  Lightning Charging Cable               1.0       14.95   \n",
       "2   141236          Wired Headphones               2.0       11.99   \n",
       "3   141237          27in FHD Monitor               1.0      149.99   \n",
       "4   141238          Wired Headphones               1.0       11.99   \n",
       "\n",
       "           Order Date                       Purchase Address           City  \\\n",
       "0 2019-01-22 21:25:00        944 Walnut St, Boston, MA 02215         Boston   \n",
       "1 2019-01-28 14:15:00       185 Maple St, Portland, OR 97035       Portland   \n",
       "2 2019-01-17 13:33:00  538 Adams St, San Francisco, CA 94016  San Francisco   \n",
       "3 2019-01-05 20:33:00     738 10th St, Los Angeles, CA 90001    Los Angeles   \n",
       "4 2019-01-25 11:59:00          387 10th St, Austin, TX 73301         Austin   \n",
       "\n",
       "  State  \n",
       "0    MA  \n",
       "1    OR  \n",
       "2    CA  \n",
       "3    CA  \n",
       "4    TX  "
      ]
     },
     "execution_count": 10,
     "metadata": {},
     "output_type": "execute_result"
    }
   ],
   "source": [
    "# Extract city and state from 'Purchase Address' with check for unexpected address formats and return with 'None'\n",
    "def extract_city(address):\n",
    "    parts = address.split(',')\n",
    "    if len(parts) >= 2:\n",
    "        return parts[1].strip()\n",
    "    else:\n",
    "        return 'None'\n",
    "\n",
    "def extract_state(address):\n",
    "    parts = address.split(',')\n",
    "    if len(parts) >= 3:\n",
    "        return parts[2].split(' ')[1]\n",
    "    else:\n",
    "        return 'None'\n",
    "\n",
    "df['City'] = df['Purchase Address'].apply(extract_city)\n",
    "df['State'] = df['Purchase Address'].apply(extract_state)\n",
    "\n",
    "# Display the first few rows of the dataframe\n",
    "df.head()"
   ]
  },
  {
   "cell_type": "markdown",
   "id": "69a82a45",
   "metadata": {},
   "source": [
    "We can now the geographical distribution of customers. We can do this by"
   ]
  },
  {
   "cell_type": "code",
   "execution_count": 14,
   "id": "e36ec764",
   "metadata": {},
   "outputs": [
    {
     "data": {
      "text/html": [
       "<div>\n",
       "<style scoped>\n",
       "    .dataframe tbody tr th:only-of-type {\n",
       "        vertical-align: middle;\n",
       "    }\n",
       "\n",
       "    .dataframe tbody tr th {\n",
       "        vertical-align: top;\n",
       "    }\n",
       "\n",
       "    .dataframe thead th {\n",
       "        text-align: right;\n",
       "    }\n",
       "</style>\n",
       "<table border=\"1\" class=\"dataframe\">\n",
       "  <thead>\n",
       "    <tr style=\"text-align: right;\">\n",
       "      <th></th>\n",
       "      <th>City</th>\n",
       "      <th>Count</th>\n",
       "    </tr>\n",
       "  </thead>\n",
       "  <tbody>\n",
       "    <tr>\n",
       "      <th>0</th>\n",
       "      <td>San Francisco</td>\n",
       "      <td>44732</td>\n",
       "    </tr>\n",
       "    <tr>\n",
       "      <th>1</th>\n",
       "      <td>Los Angeles</td>\n",
       "      <td>29605</td>\n",
       "    </tr>\n",
       "    <tr>\n",
       "      <th>2</th>\n",
       "      <td>New York City</td>\n",
       "      <td>24876</td>\n",
       "    </tr>\n",
       "    <tr>\n",
       "      <th>3</th>\n",
       "      <td>Boston</td>\n",
       "      <td>19934</td>\n",
       "    </tr>\n",
       "    <tr>\n",
       "      <th>4</th>\n",
       "      <td>Atlanta</td>\n",
       "      <td>14881</td>\n",
       "    </tr>\n",
       "    <tr>\n",
       "      <th>5</th>\n",
       "      <td>Dallas</td>\n",
       "      <td>14820</td>\n",
       "    </tr>\n",
       "    <tr>\n",
       "      <th>6</th>\n",
       "      <td>Seattle</td>\n",
       "      <td>14732</td>\n",
       "    </tr>\n",
       "    <tr>\n",
       "      <th>7</th>\n",
       "      <td>Portland</td>\n",
       "      <td>12465</td>\n",
       "    </tr>\n",
       "    <tr>\n",
       "      <th>8</th>\n",
       "      <td>Austin</td>\n",
       "      <td>9905</td>\n",
       "    </tr>\n",
       "    <tr>\n",
       "      <th>9</th>\n",
       "      <td>None</td>\n",
       "      <td>355</td>\n",
       "    </tr>\n",
       "  </tbody>\n",
       "</table>\n",
       "</div>"
      ],
      "text/plain": [
       "            City  Count\n",
       "0  San Francisco  44732\n",
       "1    Los Angeles  29605\n",
       "2  New York City  24876\n",
       "3         Boston  19934\n",
       "4        Atlanta  14881\n",
       "5         Dallas  14820\n",
       "6        Seattle  14732\n",
       "7       Portland  12465\n",
       "8         Austin   9905\n",
       "9           None    355"
      ]
     },
     "execution_count": 14,
     "metadata": {},
     "output_type": "execute_result"
    }
   ],
   "source": [
    "# Count the number of orders from each city\n",
    "city_counts = df['City'].value_counts().reset_index().rename(columns={'index': 'City', 'City': 'Count'})\n",
    "\n",
    "# Display the city counts\n",
    "city_counts"
   ]
  },
  {
   "cell_type": "markdown",
   "id": "148b484b",
   "metadata": {},
   "source": [
    "#### As you can see, San Francisco has the highest number of orders, followed by Los Angeles and New York City. There are also some orders with an unknown city."
   ]
  },
  {
   "cell_type": "code",
   "execution_count": 15,
   "id": "71505d1a",
   "metadata": {},
   "outputs": [
    {
     "data": {
      "image/png": "[encoded data removed]",
      "text/plain": [
       "<Figure size 1008x432 with 1 Axes>"
      ]
     },
     "metadata": {
      "needs_background": "light"
     },
     "output_type": "display_data"
    }
   ],
   "source": [
    "import matplotlib.pyplot as plt\n",
    "\n",
    "# Plot the number of orders from each city\n",
    "plt.figure(figsize=(14, 6))\n",
    "plt.bar(city_counts['City'], city_counts['Count'])\n",
    "plt.xlabel('City')\n",
    "plt.ylabel('Number of Orders')\n",
    "plt.title('Number of Orders from Each City')\n",
    "plt.xticks(rotation='vertical')\n",
    "plt.show()"
   ]
  },
  {
   "cell_type": "code",
   "execution_count": 16,
   "id": "5d423213",
   "metadata": {},
   "outputs": [
    {
     "data": {
      "image/png": "[encoded data removed]",
      "text/plain": [
       "<Figure size 720x720 with 1 Axes>"
      ]
     },
     "metadata": {},
     "output_type": "display_data"
    }
   ],
   "source": [
    "# Plot the number of orders from each city using a pie chart\n",
    "plt.figure(figsize=(10, 10))\n",
    "plt.pie(city_counts['Count'], labels=city_counts['City'], autopct='%1.1f%%')\n",
    "plt.title('Number of Orders from Each City')\n",
    "plt.show()"
   ]
  },
  {
   "cell_type": "markdown",
   "id": "568c7545",
   "metadata": {},
   "source": [
    "#### (2) Which market (city) generated the most sales on average?\n",
    "\n",
    "This can be easily done by calculate the total sales for each city by multiplying the 'Quantity Ordered' by the 'Price Each' and then summing the result for each city"
   ]
  },
  {
   "cell_type": "code",
   "execution_count": 17,
   "id": "9fda2a7e",
   "metadata": {},
   "outputs": [
    {
     "data": {
      "text/html": [
       "<div>\n",
       "<style scoped>\n",
       "    .dataframe tbody tr th:only-of-type {\n",
       "        vertical-align: middle;\n",
       "    }\n",
       "\n",
       "    .dataframe tbody tr th {\n",
       "        vertical-align: top;\n",
       "    }\n",
       "\n",
       "    .dataframe thead th {\n",
       "        text-align: right;\n",
       "    }\n",
       "</style>\n",
       "<table border=\"1\" class=\"dataframe\">\n",
       "  <thead>\n",
       "    <tr style=\"text-align: right;\">\n",
       "      <th></th>\n",
       "      <th>City</th>\n",
       "      <th>Sales</th>\n",
       "    </tr>\n",
       "  </thead>\n",
       "  <tbody>\n",
       "    <tr>\n",
       "      <th>8</th>\n",
       "      <td>San Francisco</td>\n",
       "      <td>8262203.91</td>\n",
       "    </tr>\n",
       "    <tr>\n",
       "      <th>4</th>\n",
       "      <td>Los Angeles</td>\n",
       "      <td>5452570.80</td>\n",
       "    </tr>\n",
       "    <tr>\n",
       "      <th>5</th>\n",
       "      <td>New York City</td>\n",
       "      <td>4664317.43</td>\n",
       "    </tr>\n",
       "    <tr>\n",
       "      <th>2</th>\n",
       "      <td>Boston</td>\n",
       "      <td>3661642.01</td>\n",
       "    </tr>\n",
       "    <tr>\n",
       "      <th>0</th>\n",
       "      <td>Atlanta</td>\n",
       "      <td>2795498.58</td>\n",
       "    </tr>\n",
       "    <tr>\n",
       "      <th>3</th>\n",
       "      <td>Dallas</td>\n",
       "      <td>2767975.40</td>\n",
       "    </tr>\n",
       "    <tr>\n",
       "      <th>9</th>\n",
       "      <td>Seattle</td>\n",
       "      <td>2747755.48</td>\n",
       "    </tr>\n",
       "    <tr>\n",
       "      <th>7</th>\n",
       "      <td>Portland</td>\n",
       "      <td>2320490.61</td>\n",
       "    </tr>\n",
       "    <tr>\n",
       "      <th>1</th>\n",
       "      <td>Austin</td>\n",
       "      <td>1819581.75</td>\n",
       "    </tr>\n",
       "    <tr>\n",
       "      <th>6</th>\n",
       "      <td>None</td>\n",
       "      <td>0.00</td>\n",
       "    </tr>\n",
       "  </tbody>\n",
       "</table>\n",
       "</div>"
      ],
      "text/plain": [
       "            City       Sales\n",
       "8  San Francisco  8262203.91\n",
       "4    Los Angeles  5452570.80\n",
       "5  New York City  4664317.43\n",
       "2         Boston  3661642.01\n",
       "0        Atlanta  2795498.58\n",
       "3         Dallas  2767975.40\n",
       "9        Seattle  2747755.48\n",
       "7       Portland  2320490.61\n",
       "1         Austin  1819581.75\n",
       "6           None        0.00"
      ]
     },
     "execution_count": 17,
     "metadata": {},
     "output_type": "execute_result"
    }
   ],
   "source": [
    "# Calculate total sales for each order\n",
    "df['Sales'] = df['Quantity Ordered'] * df['Price Each']\n",
    "\n",
    "# Calculate total sales for each city\n",
    "city_sales = df.groupby('City')['Sales'].sum().reset_index().sort_values(by='Sales', ascending=False)\n",
    "\n",
    "# Display the city sales\n",
    "city_sales"
   ]
  },
  {
   "cell_type": "code",
   "execution_count": 18,
   "id": "500ec7e8",
   "metadata": {},
   "outputs": [
    {
     "data": {
      "image/png": "[encoded data removed]",
      "text/plain": [
       "<Figure size 1008x432 with 1 Axes>"
      ]
     },
     "metadata": {
      "needs_background": "light"
     },
     "output_type": "display_data"
    }
   ],
   "source": [
    "# Plot the total sales for each city\n",
    "plt.figure(figsize=(14, 6))\n",
    "plt.bar(city_sales['City'], city_sales['Sales'])\n",
    "plt.xlabel('City')\n",
    "plt.ylabel('Total Sales')\n",
    "plt.title('Total Sales for Each City')\n",
    "plt.xticks(rotation='vertical')\n",
    "plt.show()"
   ]
  },
  {
   "cell_type": "markdown",
   "id": "3e0d627b",
   "metadata": {},
   "source": [
    "#### (3) When were the best- and worst-selling periods?\n",
    "\n",
    "We can answer this question by grouping the data by month and summing the 'Sales' for each month"
   ]
  },
  {
   "cell_type": "code",
   "execution_count": 20,
   "id": "1bfd058c",
   "metadata": {},
   "outputs": [
    {
     "data": {
      "text/html": [
       "<div>\n",
       "<style scoped>\n",
       "    .dataframe tbody tr th:only-of-type {\n",
       "        vertical-align: middle;\n",
       "    }\n",
       "\n",
       "    .dataframe tbody tr th {\n",
       "        vertical-align: top;\n",
       "    }\n",
       "\n",
       "    .dataframe thead th {\n",
       "        text-align: right;\n",
       "    }\n",
       "</style>\n",
       "<table border=\"1\" class=\"dataframe\">\n",
       "  <thead>\n",
       "    <tr style=\"text-align: right;\">\n",
       "      <th></th>\n",
       "      <th>Month</th>\n",
       "      <th>Sales</th>\n",
       "    </tr>\n",
       "  </thead>\n",
       "  <tbody>\n",
       "    <tr>\n",
       "      <th>11</th>\n",
       "      <td>12.0</td>\n",
       "      <td>4613443.34</td>\n",
       "    </tr>\n",
       "    <tr>\n",
       "      <th>9</th>\n",
       "      <td>10.0</td>\n",
       "      <td>3736726.88</td>\n",
       "    </tr>\n",
       "    <tr>\n",
       "      <th>3</th>\n",
       "      <td>4.0</td>\n",
       "      <td>3390670.24</td>\n",
       "    </tr>\n",
       "    <tr>\n",
       "      <th>10</th>\n",
       "      <td>11.0</td>\n",
       "      <td>3199603.20</td>\n",
       "    </tr>\n",
       "    <tr>\n",
       "      <th>4</th>\n",
       "      <td>5.0</td>\n",
       "      <td>3152606.75</td>\n",
       "    </tr>\n",
       "    <tr>\n",
       "      <th>2</th>\n",
       "      <td>3.0</td>\n",
       "      <td>2807100.38</td>\n",
       "    </tr>\n",
       "    <tr>\n",
       "      <th>6</th>\n",
       "      <td>7.0</td>\n",
       "      <td>2647775.76</td>\n",
       "    </tr>\n",
       "    <tr>\n",
       "      <th>5</th>\n",
       "      <td>6.0</td>\n",
       "      <td>2577802.26</td>\n",
       "    </tr>\n",
       "    <tr>\n",
       "      <th>7</th>\n",
       "      <td>8.0</td>\n",
       "      <td>2244467.88</td>\n",
       "    </tr>\n",
       "    <tr>\n",
       "      <th>1</th>\n",
       "      <td>2.0</td>\n",
       "      <td>2202022.42</td>\n",
       "    </tr>\n",
       "    <tr>\n",
       "      <th>8</th>\n",
       "      <td>9.0</td>\n",
       "      <td>2097560.13</td>\n",
       "    </tr>\n",
       "    <tr>\n",
       "      <th>0</th>\n",
       "      <td>1.0</td>\n",
       "      <td>1822256.73</td>\n",
       "    </tr>\n",
       "  </tbody>\n",
       "</table>\n",
       "</div>"
      ],
      "text/plain": [
       "    Month       Sales\n",
       "11   12.0  4613443.34\n",
       "9    10.0  3736726.88\n",
       "3     4.0  3390670.24\n",
       "10   11.0  3199603.20\n",
       "4     5.0  3152606.75\n",
       "2     3.0  2807100.38\n",
       "6     7.0  2647775.76\n",
       "5     6.0  2577802.26\n",
       "7     8.0  2244467.88\n",
       "1     2.0  2202022.42\n",
       "8     9.0  2097560.13\n",
       "0     1.0  1822256.73"
      ]
     },
     "execution_count": 20,
     "metadata": {},
     "output_type": "execute_result"
    }
   ],
   "source": [
    "# Extract month from 'Order Date'\n",
    "df['Month'] = df['Order Date'].dt.month\n",
    "\n",
    "# Calculate total sales for each month\n",
    "month_sales = df.groupby('Month')['Sales'].sum().reset_index().sort_values(by='Sales', ascending=False)\n",
    "\n",
    "# Display the month sales\n",
    "month_sales"
   ]
  },
  {
   "cell_type": "code",
   "execution_count": 21,
   "id": "fd7a7602",
   "metadata": {},
   "outputs": [
    {
     "data": {
      "image/png": "[encoded data removed]",
      "text/plain": [
       "<Figure size 1008x432 with 1 Axes>"
      ]
     },
     "metadata": {
      "needs_background": "light"
     },
     "output_type": "display_data"
    }
   ],
   "source": [
    "# Plot the total sales for each month\n",
    "plt.figure(figsize=(14, 6))\n",
    "plt.bar(month_sales['Month'], month_sales['Sales'])\n",
    "plt.xlabel('Month')\n",
    "plt.ylabel('Total Sales')\n",
    "plt.title('Total Sales for Each Month')\n",
    "plt.xticks(range(1, 13))\n",
    "plt.show()"
   ]
  },
  {
   "cell_type": "markdown",
   "id": "89defb04",
   "metadata": {},
   "source": [
    "December was the best-selling period, followed by October and April. February was the worst-selling period."
   ]
  },
  {
   "cell_type": "markdown",
   "id": "adf5c7c5",
   "metadata": {},
   "source": [
    "#### (4) What time should we display advertisements to maximize the likelihood of customers buying products?\n",
    "\n",
    "We can answer this question by grouping the data by hour and counting the number of orders for each hour."
   ]
  },
  {
   "cell_type": "code",
   "execution_count": 22,
   "id": "22000173",
   "metadata": {},
   "outputs": [
    {
     "data": {
      "text/html": [
       "<div>\n",
       "<style scoped>\n",
       "    .dataframe tbody tr th:only-of-type {\n",
       "        vertical-align: middle;\n",
       "    }\n",
       "\n",
       "    .dataframe tbody tr th {\n",
       "        vertical-align: top;\n",
       "    }\n",
       "\n",
       "    .dataframe thead th {\n",
       "        text-align: right;\n",
       "    }\n",
       "</style>\n",
       "<table border=\"1\" class=\"dataframe\">\n",
       "  <thead>\n",
       "    <tr style=\"text-align: right;\">\n",
       "      <th></th>\n",
       "      <th>Hour</th>\n",
       "      <th>Count</th>\n",
       "    </tr>\n",
       "  </thead>\n",
       "  <tbody>\n",
       "    <tr>\n",
       "      <th>17</th>\n",
       "      <td>0.0</td>\n",
       "      <td>3910</td>\n",
       "    </tr>\n",
       "    <tr>\n",
       "      <th>19</th>\n",
       "      <td>1.0</td>\n",
       "      <td>2350</td>\n",
       "    </tr>\n",
       "    <tr>\n",
       "      <th>21</th>\n",
       "      <td>2.0</td>\n",
       "      <td>1243</td>\n",
       "    </tr>\n",
       "    <tr>\n",
       "      <th>23</th>\n",
       "      <td>3.0</td>\n",
       "      <td>831</td>\n",
       "    </tr>\n",
       "    <tr>\n",
       "      <th>22</th>\n",
       "      <td>4.0</td>\n",
       "      <td>854</td>\n",
       "    </tr>\n",
       "    <tr>\n",
       "      <th>20</th>\n",
       "      <td>5.0</td>\n",
       "      <td>1321</td>\n",
       "    </tr>\n",
       "    <tr>\n",
       "      <th>18</th>\n",
       "      <td>6.0</td>\n",
       "      <td>2482</td>\n",
       "    </tr>\n",
       "    <tr>\n",
       "      <th>16</th>\n",
       "      <td>7.0</td>\n",
       "      <td>4011</td>\n",
       "    </tr>\n",
       "    <tr>\n",
       "      <th>15</th>\n",
       "      <td>8.0</td>\n",
       "      <td>6256</td>\n",
       "    </tr>\n",
       "    <tr>\n",
       "      <th>13</th>\n",
       "      <td>9.0</td>\n",
       "      <td>8748</td>\n",
       "    </tr>\n",
       "    <tr>\n",
       "      <th>7</th>\n",
       "      <td>10.0</td>\n",
       "      <td>10944</td>\n",
       "    </tr>\n",
       "    <tr>\n",
       "      <th>2</th>\n",
       "      <td>11.0</td>\n",
       "      <td>12411</td>\n",
       "    </tr>\n",
       "    <tr>\n",
       "      <th>1</th>\n",
       "      <td>12.0</td>\n",
       "      <td>12587</td>\n",
       "    </tr>\n",
       "    <tr>\n",
       "      <th>5</th>\n",
       "      <td>13.0</td>\n",
       "      <td>12129</td>\n",
       "    </tr>\n",
       "    <tr>\n",
       "      <th>6</th>\n",
       "      <td>14.0</td>\n",
       "      <td>10984</td>\n",
       "    </tr>\n",
       "    <tr>\n",
       "      <th>11</th>\n",
       "      <td>15.0</td>\n",
       "      <td>10175</td>\n",
       "    </tr>\n",
       "    <tr>\n",
       "      <th>10</th>\n",
       "      <td>16.0</td>\n",
       "      <td>10384</td>\n",
       "    </tr>\n",
       "    <tr>\n",
       "      <th>9</th>\n",
       "      <td>17.0</td>\n",
       "      <td>10899</td>\n",
       "    </tr>\n",
       "    <tr>\n",
       "      <th>3</th>\n",
       "      <td>18.0</td>\n",
       "      <td>12280</td>\n",
       "    </tr>\n",
       "    <tr>\n",
       "      <th>0</th>\n",
       "      <td>19.0</td>\n",
       "      <td>12905</td>\n",
       "    </tr>\n",
       "    <tr>\n",
       "      <th>4</th>\n",
       "      <td>20.0</td>\n",
       "      <td>12228</td>\n",
       "    </tr>\n",
       "    <tr>\n",
       "      <th>8</th>\n",
       "      <td>21.0</td>\n",
       "      <td>10921</td>\n",
       "    </tr>\n",
       "    <tr>\n",
       "      <th>12</th>\n",
       "      <td>22.0</td>\n",
       "      <td>8822</td>\n",
       "    </tr>\n",
       "    <tr>\n",
       "      <th>14</th>\n",
       "      <td>23.0</td>\n",
       "      <td>6275</td>\n",
       "    </tr>\n",
       "  </tbody>\n",
       "</table>\n",
       "</div>"
      ],
      "text/plain": [
       "    Hour  Count\n",
       "17   0.0   3910\n",
       "19   1.0   2350\n",
       "21   2.0   1243\n",
       "23   3.0    831\n",
       "22   4.0    854\n",
       "20   5.0   1321\n",
       "18   6.0   2482\n",
       "16   7.0   4011\n",
       "15   8.0   6256\n",
       "13   9.0   8748\n",
       "7   10.0  10944\n",
       "2   11.0  12411\n",
       "1   12.0  12587\n",
       "5   13.0  12129\n",
       "6   14.0  10984\n",
       "11  15.0  10175\n",
       "10  16.0  10384\n",
       "9   17.0  10899\n",
       "3   18.0  12280\n",
       "0   19.0  12905\n",
       "4   20.0  12228\n",
       "8   21.0  10921\n",
       "12  22.0   8822\n",
       "14  23.0   6275"
      ]
     },
     "execution_count": 22,
     "metadata": {},
     "output_type": "execute_result"
    }
   ],
   "source": [
    "# Extract hour from 'Order Date'\n",
    "df['Hour'] = df['Order Date'].dt.hour\n",
    "\n",
    "# Count the number of orders for each hour\n",
    "hour_orders = df['Hour'].value_counts().reset_index().rename(columns={'index': 'Hour', 'Hour': 'Count'}).sort_values(by='Hour')\n",
    "\n",
    "# Display the hour orders\n",
    "hour_orders"
   ]
  },
  {
   "cell_type": "markdown",
   "id": "ceb3b8b6",
   "metadata": {},
   "source": [
    "It seems that the number of orders peaks at around 7-9 AM. Therefore, this would be a good time to display advertisements to maximize the likelihood of customers buying products."
   ]
  },
  {
   "cell_type": "code",
   "execution_count": 23,
   "id": "006884ad",
   "metadata": {},
   "outputs": [
    {
     "data": {
      "image/png": "[encoded data removed]",
      "text/plain": [
       "<Figure size 1008x432 with 1 Axes>"
      ]
     },
     "metadata": {
      "needs_background": "light"
     },
     "output_type": "display_data"
    }
   ],
   "source": [
    "# Plot the number of orders for each hour using a line chart\n",
    "plt.figure(figsize=(14, 6))\n",
    "plt.plot(hour_orders['Hour'], hour_orders['Count'], marker='o')\n",
    "plt.xlabel('Hour')\n",
    "plt.ylabel('Number of Orders')\n",
    "plt.title('Number of Orders for Each Hour')\n",
    "plt.xticks(range(24))\n",
    "plt.grid(True)\n",
    "plt.show()"
   ]
  },
  {
   "cell_type": "markdown",
   "id": "9f2c536c",
   "metadata": {},
   "source": [
    "#### (5) What products are most often sold together?\n",
    "\n",
    "We can answer this question by finding the 'Order ID's that appear more than once, which indicates that multiple products were ordered together."
   ]
  },
  {
   "cell_type": "code",
   "execution_count": 27,
   "id": "35425500",
   "metadata": {},
   "outputs": [
    {
     "name": "stderr",
     "output_type": "stream",
     "text": [
      "C:\\Users\\PJ\\AppData\\Local\\Temp/ipykernel_1800/3752884459.py:5: SettingWithCopyWarning: \n",
      "A value is trying to be set on a copy of a slice from a DataFrame.\n",
      "Try using .loc[row_indexer,col_indexer] = value instead\n",
      "\n",
      "See the caveats in the documentation: https://pandas.pydata.org/pandas-docs/stable/user_guide/indexing.html#returning-a-view-versus-a-copy\n",
      "  df_dup['Grouped'] = df_dup.groupby('Order ID')['Product'].transform(lambda x: ', '.join(x))\n"
     ]
    },
    {
     "data": {
      "text/html": [
       "<div>\n",
       "<style scoped>\n",
       "    .dataframe tbody tr th:only-of-type {\n",
       "        vertical-align: middle;\n",
       "    }\n",
       "\n",
       "    .dataframe tbody tr th {\n",
       "        vertical-align: top;\n",
       "    }\n",
       "\n",
       "    .dataframe thead th {\n",
       "        text-align: right;\n",
       "    }\n",
       "</style>\n",
       "<table border=\"1\" class=\"dataframe\">\n",
       "  <thead>\n",
       "    <tr style=\"text-align: right;\">\n",
       "      <th></th>\n",
       "      <th>Order ID</th>\n",
       "      <th>Grouped</th>\n",
       "    </tr>\n",
       "  </thead>\n",
       "  <tbody>\n",
       "    <tr>\n",
       "      <th>41</th>\n",
       "      <td>141275</td>\n",
       "      <td>USB-C Charging Cable, Wired Headphones</td>\n",
       "    </tr>\n",
       "    <tr>\n",
       "      <th>57</th>\n",
       "      <td>141290</td>\n",
       "      <td>Apple Airpods Headphones, AA Batteries (4-pack)</td>\n",
       "    </tr>\n",
       "    <tr>\n",
       "      <th>133</th>\n",
       "      <td>141365</td>\n",
       "      <td>Vareebadd Phone, Wired Headphones</td>\n",
       "    </tr>\n",
       "    <tr>\n",
       "      <th>153</th>\n",
       "      <td>141384</td>\n",
       "      <td>Google Phone, USB-C Charging Cable</td>\n",
       "    </tr>\n",
       "    <tr>\n",
       "      <th>220</th>\n",
       "      <td>141450</td>\n",
       "      <td>Google Phone, Bose SoundSport Headphones</td>\n",
       "    </tr>\n",
       "  </tbody>\n",
       "</table>\n",
       "</div>"
      ],
      "text/plain": [
       "    Order ID                                          Grouped\n",
       "41    141275           USB-C Charging Cable, Wired Headphones\n",
       "57    141290  Apple Airpods Headphones, AA Batteries (4-pack)\n",
       "133   141365                Vareebadd Phone, Wired Headphones\n",
       "153   141384               Google Phone, USB-C Charging Cable\n",
       "220   141450         Google Phone, Bose SoundSport Headphones"
      ]
     },
     "execution_count": 27,
     "metadata": {},
     "output_type": "execute_result"
    }
   ],
   "source": [
    "# Find 'Order ID's that appear more than once\n",
    "df_dup = df[df['Order ID'].duplicated(keep=False)]\n",
    "\n",
    "# Group products with the same 'Order ID' together\n",
    "df_dup['Grouped'] = df_dup.groupby('Order ID')['Product'].transform(lambda x: ', '.join(x))\n",
    "\n",
    "# Drop duplicate 'Order ID's\n",
    "df_dup = df_dup[['Order ID', 'Grouped']].drop_duplicates()\n",
    "\n",
    "# Display the first few rows of the dataframe\n",
    "df_dup.head()"
   ]
  },
  {
   "cell_type": "markdown",
   "id": "4b7feac4",
   "metadata": {},
   "source": [
    "To find the most common combinations of products that were ordered together, We can count the number of times each combination appears in the 'Grouped' column"
   ]
  },
  {
   "cell_type": "code",
   "execution_count": 28,
   "id": "1fe8bf3c",
   "metadata": {},
   "outputs": [
    {
     "name": "stdout",
     "output_type": "stream",
     "text": [
      "('Product', 'Product') 62835\n",
      "('iPhone', 'Lightning Charging Cable') 1005\n",
      "('Google Phone', 'USB-C Charging Cable') 987\n",
      "('iPhone', 'Wired Headphones') 447\n",
      "('Google Phone', 'Wired Headphones') 414\n",
      "('Vareebadd Phone', 'USB-C Charging Cable') 361\n",
      "('iPhone', 'Apple Airpods Headphones') 360\n",
      "('Google Phone', 'Bose SoundSport Headphones') 220\n",
      "('USB-C Charging Cable', 'Wired Headphones') 160\n",
      "('Vareebadd Phone', 'Wired Headphones') 143\n"
     ]
    }
   ],
   "source": [
    "# Count the number of times each combination appears in the 'Grouped' column\n",
    "count = Counter()\n",
    "\n",
    "for row in df_dup['Grouped']:\n",
    "    row_list = row.split(', ')\n",
    "    count.update(Counter(combinations(row_list, 2)))\n",
    "\n",
    "# Get the 10 most common combinations\n",
    "for key, value in count.most_common(10):\n",
    "    print(key, value)"
   ]
  },
  {
   "cell_type": "markdown",
   "id": "26b023a5",
   "metadata": {},
   "source": [
    "#### (6) Which products should the company order more or less of?\n",
    "\n",
    "We can answer this question by counting the number of orders for each product."
   ]
  },
  {
   "cell_type": "code",
   "execution_count": 29,
   "id": "adfc0d55",
   "metadata": {},
   "outputs": [
    {
     "data": {
      "text/html": [
       "<div>\n",
       "<style scoped>\n",
       "    .dataframe tbody tr th:only-of-type {\n",
       "        vertical-align: middle;\n",
       "    }\n",
       "\n",
       "    .dataframe tbody tr th {\n",
       "        vertical-align: top;\n",
       "    }\n",
       "\n",
       "    .dataframe thead th {\n",
       "        text-align: right;\n",
       "    }\n",
       "</style>\n",
       "<table border=\"1\" class=\"dataframe\">\n",
       "  <thead>\n",
       "    <tr style=\"text-align: right;\">\n",
       "      <th></th>\n",
       "      <th>Product</th>\n",
       "      <th>Count</th>\n",
       "    </tr>\n",
       "  </thead>\n",
       "  <tbody>\n",
       "    <tr>\n",
       "      <th>0</th>\n",
       "      <td>USB-C Charging Cable</td>\n",
       "      <td>21903</td>\n",
       "    </tr>\n",
       "    <tr>\n",
       "      <th>1</th>\n",
       "      <td>Lightning Charging Cable</td>\n",
       "      <td>21658</td>\n",
       "    </tr>\n",
       "    <tr>\n",
       "      <th>2</th>\n",
       "      <td>AAA Batteries (4-pack)</td>\n",
       "      <td>20641</td>\n",
       "    </tr>\n",
       "    <tr>\n",
       "      <th>3</th>\n",
       "      <td>AA Batteries (4-pack)</td>\n",
       "      <td>20577</td>\n",
       "    </tr>\n",
       "    <tr>\n",
       "      <th>4</th>\n",
       "      <td>Wired Headphones</td>\n",
       "      <td>18882</td>\n",
       "    </tr>\n",
       "    <tr>\n",
       "      <th>5</th>\n",
       "      <td>Apple Airpods Headphones</td>\n",
       "      <td>15549</td>\n",
       "    </tr>\n",
       "    <tr>\n",
       "      <th>6</th>\n",
       "      <td>Bose SoundSport Headphones</td>\n",
       "      <td>13325</td>\n",
       "    </tr>\n",
       "    <tr>\n",
       "      <th>7</th>\n",
       "      <td>27in FHD Monitor</td>\n",
       "      <td>7507</td>\n",
       "    </tr>\n",
       "    <tr>\n",
       "      <th>8</th>\n",
       "      <td>iPhone</td>\n",
       "      <td>6842</td>\n",
       "    </tr>\n",
       "    <tr>\n",
       "      <th>9</th>\n",
       "      <td>27in 4K Gaming Monitor</td>\n",
       "      <td>6230</td>\n",
       "    </tr>\n",
       "    <tr>\n",
       "      <th>10</th>\n",
       "      <td>34in Ultrawide Monitor</td>\n",
       "      <td>6181</td>\n",
       "    </tr>\n",
       "    <tr>\n",
       "      <th>11</th>\n",
       "      <td>Google Phone</td>\n",
       "      <td>5525</td>\n",
       "    </tr>\n",
       "    <tr>\n",
       "      <th>12</th>\n",
       "      <td>Flatscreen TV</td>\n",
       "      <td>4800</td>\n",
       "    </tr>\n",
       "    <tr>\n",
       "      <th>13</th>\n",
       "      <td>Macbook Pro Laptop</td>\n",
       "      <td>4724</td>\n",
       "    </tr>\n",
       "    <tr>\n",
       "      <th>14</th>\n",
       "      <td>ThinkPad Laptop</td>\n",
       "      <td>4128</td>\n",
       "    </tr>\n",
       "    <tr>\n",
       "      <th>15</th>\n",
       "      <td>20in Monitor</td>\n",
       "      <td>4101</td>\n",
       "    </tr>\n",
       "    <tr>\n",
       "      <th>16</th>\n",
       "      <td>Vareebadd Phone</td>\n",
       "      <td>2065</td>\n",
       "    </tr>\n",
       "    <tr>\n",
       "      <th>17</th>\n",
       "      <td>LG Washing Machine</td>\n",
       "      <td>666</td>\n",
       "    </tr>\n",
       "    <tr>\n",
       "      <th>18</th>\n",
       "      <td>LG Dryer</td>\n",
       "      <td>646</td>\n",
       "    </tr>\n",
       "    <tr>\n",
       "      <th>19</th>\n",
       "      <td>Product</td>\n",
       "      <td>355</td>\n",
       "    </tr>\n",
       "  </tbody>\n",
       "</table>\n",
       "</div>"
      ],
      "text/plain": [
       "                       Product  Count\n",
       "0         USB-C Charging Cable  21903\n",
       "1     Lightning Charging Cable  21658\n",
       "2       AAA Batteries (4-pack)  20641\n",
       "3        AA Batteries (4-pack)  20577\n",
       "4             Wired Headphones  18882\n",
       "5     Apple Airpods Headphones  15549\n",
       "6   Bose SoundSport Headphones  13325\n",
       "7             27in FHD Monitor   7507\n",
       "8                       iPhone   6842\n",
       "9       27in 4K Gaming Monitor   6230\n",
       "10      34in Ultrawide Monitor   6181\n",
       "11                Google Phone   5525\n",
       "12               Flatscreen TV   4800\n",
       "13          Macbook Pro Laptop   4724\n",
       "14             ThinkPad Laptop   4128\n",
       "15                20in Monitor   4101\n",
       "16             Vareebadd Phone   2065\n",
       "17          LG Washing Machine    666\n",
       "18                    LG Dryer    646\n",
       "19                     Product    355"
      ]
     },
     "execution_count": 29,
     "metadata": {},
     "output_type": "execute_result"
    }
   ],
   "source": [
    "# Count the number of orders for each product\n",
    "product_orders = df['Product'].value_counts().reset_index().rename(columns={'index': 'Product', 'Product': 'Count'})\n",
    "\n",
    "# Display the product orders\n",
    "product_orders"
   ]
  },
  {
   "cell_type": "markdown",
   "id": "ff998b86",
   "metadata": {},
   "source": [
    "##### The'USB-C Charging Cable' and 'Lightning Charging Cable' are the most ordered products, so the company should order more of these. The '27in 4K Gaming Monitor' is the least ordered product, so the company should order less of this."
   ]
  },
  {
   "cell_type": "markdown",
   "id": "fe93d0f4",
   "metadata": {},
   "source": [
    "#### (7) What product sold the most? Why do you think it sold the most?\n",
    "\n",
    "The 'USB-C Charging Cable' is the product that sold the most, with 21,903 orders.\n",
    "\n",
    "As for why it sold the most, we can only speculate based on the information we are given. One reason could be that the 'USB-C Charging Cable' is a common accessory needed for many devices, including not only phones, tablets, and laptops but also most of the product listed require USB- C Charging Cable to rechrage such as 'Apple Airpods Headphones', 'Bose SoundSport Headphones', etc. It is also possible that it's priced more affordably compared to other items, leading to higher sales."
   ]
  },
  {
   "cell_type": "code",
   "execution_count": 31,
   "id": "04297973",
   "metadata": {},
   "outputs": [
    {
     "data": {
      "text/plain": [
       "Product    USB-C Charging Cable\n",
       "Count                     21903\n",
       "Name: 0, dtype: object"
      ]
     },
     "execution_count": 31,
     "metadata": {},
     "output_type": "execute_result"
    }
   ],
   "source": [
    "# Find the product with the highest count\n",
    "most_sold_product = product_orders.iloc[0]\n",
    "\n",
    "# Display the most sold product\n",
    "most_sold_product"
   ]
  },
  {
   "cell_type": "markdown",
   "id": "bc89dad7",
   "metadata": {},
   "source": [
    "### The probability questions:\n",
    "\n",
    "#### - How much probability for the next person will order an iPhone?\n",
    "\n",
    "#### - How much probability for the next person will order a Google Phone?\n",
    "\n",
    "We can answer these questions by dividing the number of orders for each product by the total number of orders"
   ]
  },
  {
   "cell_type": "code",
   "execution_count": 32,
   "id": "12ba59f4",
   "metadata": {},
   "outputs": [
    {
     "data": {
      "text/plain": [
       "(0.03833264215021464, 0.030946323092614803)"
      ]
     },
     "execution_count": 32,
     "metadata": {},
     "output_type": "execute_result"
    }
   ],
   "source": [
    "# Calculate the total number of orders\n",
    "total_orders = df['Order ID'].nunique()\n",
    "\n",
    "# Calculate the number of orders for the iPhone and Google Phone\n",
    "iphone_orders = df[df['Product'] == 'iPhone']['Order ID'].nunique()\n",
    "google_phone_orders = df[df['Product'] == 'Google Phone']['Order ID'].nunique()\n",
    "\n",
    "# Calculate the probability for the next person will order an iPhone or a Google Phone\n",
    "iphone_probability = iphone_orders / total_orders\n",
    "google_phone_probability = google_phone_orders / total_orders\n",
    "\n",
    "# Display the probabilities\n",
    "iphone_probability, google_phone_probability"
   ]
  }
 ],
 "metadata": {
  "kernelspec": {
   "display_name": "Python 3 (ipykernel)",
   "language": "python",
   "name": "python3"
  },
  "language_info": {
   "codemirror_mode": {
    "name": "ipython",
    "version": 3
   },
   "file_extension": ".py",
   "mimetype": "text/x-python",
   "name": "python",
   "nbconvert_exporter": "python",
   "pygments_lexer": "ipython3",
   "version": "3.9.7"
  }
 },
 "nbformat": 4,
 "nbformat_minor": 5
}
